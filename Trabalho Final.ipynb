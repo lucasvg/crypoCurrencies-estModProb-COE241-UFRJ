{
 "cells": [
  {
   "cell_type": "markdown",
   "metadata": {
    "collapsed": true
   },
   "source": [
    "Estatística e Modelos Probabilísticos \n",
    "====================\n",
    "###### COE241 - 2017.2  \n",
    "###### Lucas Vieira Gama - DRE 113080612  \n",
    "\n",
    "Projeto de Curso\n",
    "-----\n",
    "Estudo probabilístico de um conjunto de dados.\n",
    "\n",
    "## Introdução\n",
    "Devido a atual relevância do mercado de crypto moedas no cenário mundial, foi escolhido um conjunto de dados histórios de diferentes modeas, disponível no site Kaggle (https://www.kaggle.com/sudalairajkumar/cryptocurrencypricehistory). Existem diferentes moedas e tokens disponíveis no mercado, e o objetivo deste trabalho é verificar se é possível encontrar algum padrão probabilístico que auxilie avaliação de preço e valor, e na consequente redução de riscos no investimento.\n",
    "\n",
    "Para a execução dos experimentos e realização das análises, foi utilizada a linguagem de desenvolvimento Python, com o auxílio das ferramentas Jupyter Notebook, Numpy, Pandas, Matplotlib e Scipy.\n",
    "\n",
    "### Dados\n",
    "Os dados estão em diferentes datasets, que incluem as seguintes modeas:\n",
    "* Bitcoin\n",
    "* Ethereum\n",
    "* Ripple\n",
    "* Bitcoin cash\n",
    "* Bitconnect\n",
    "* Dash\n",
    "* Ethereum Classic\n",
    "* Iota\n",
    "* Litecoin\n",
    "* Monero\n",
    "* Nem\n",
    "* Neo\n",
    "* Numeraire\n",
    "* Stratis\n",
    "* Waves\n",
    "\n",
    "Para cada dataset, os dados estão organizados em série temporal diárias com as seguintes informações diárias:\n",
    "* Date : data da observação\n",
    "* Open : Preço de abertura no dia\n",
    "* High : Maior valor atingido no dia\n",
    "* Low : Menor valor atingido no dia\n",
    "* Close : Preço de fechamento no dia\n",
    "* Volume : Volume de transações no dia\n",
    "* Market Cap : Total de capitalização no mercado USD\n",
    "\n",
    "### Tratamento dos dados\n",
    "Para trabalhar estatisticamente, havia o problema da variação do valor, que dependia do valor no dia anterior. Para simplificar e aproximar nosso modelo com as distribuições probabilísticas discutidas no curso, foi extraído a variação relativa diária, isto é, a diferença entre o preço de abertura e fechamento de cada dia, em porcentagem.\n",
    "\n",
    "Para fins estatísticos, necessitamos de dados suficientemente grandes. Entretanto, algumas destas moedas possuem poucos meses de existência. Portanto, consideramos apenas as moedas criadas no máximo 1 ano atrás."
   ]
  },
  {
   "cell_type": "code",
   "execution_count": null,
   "metadata": {
    "collapsed": true
   },
   "outputs": [],
   "source": [
    "import numpy as np # manipulação de matrizes\n",
    "import pandas as pd # Manipulação de data/sets\n",
    "import matplotlib.pyplot as plt # Para plotagem\n",
    "import scipy.stats as stats # Normalizações, cálculos de densidade de probabilidade, etc\n",
    "import math"
   ]
  },
  {
   "cell_type": "code",
   "execution_count": null,
   "metadata": {
    "collapsed": true
   },
   "outputs": [],
   "source": [
    "## Lendo o dataset e processando os dados\n",
    "data = {}\n",
    "data['BTC'] = pd.read_csv(\"data/bitcoin_price.csv\")\n",
    "data['ETH'] = pd.read_csv(\"data/ethereum_price.csv\")\n",
    "data['DSH'] = pd.read_csv(\"data/dash_price.csv\")\n",
    "data['LTC'] = pd.read_csv(\"data/litecoin_price.csv\")\n",
    "data['XMR'] = pd.read_csv(\"data/monero_price.csv\")\n",
    "data['NEM'] = pd.read_csv(\"data/nem_price.csv\")\n",
    "data['NEO'] = pd.read_csv(\"data/neo_price.csv\")\n",
    "data['OMG'] = pd.read_csv(\"data/omisego_price.csv\")\n",
    "data['XRP'] = pd.read_csv(\"data/ripple_price.csv\")\n",
    "data['STRAT'] = pd.read_csv(\"data/stratis_price.csv\")\n",
    "data['WAVES'] = pd.read_csv(\"data/waves_price.csv\")\n",
    "\n",
    "def getRelativeChange(ticker):\n",
    "    return (ticker['Close'] - ticker['Open']) / ticker['Open']\n",
    "\n",
    "variation = {}\n",
    "for coin in data.keys():\n",
    "    variation[coin] = data[coin].apply(getRelativeChange, axis=1)"
   ]
  },
  {
   "cell_type": "markdown",
   "metadata": {},
   "source": [
    "### Histograma Normalizado\n",
    "Com a mudança relativa no preço diário, foi possível traçar um histograma, para cada moeda. Podemos observar que ele possui uma distribuição selhemante a Distribuição Gaussiana / Normal."
   ]
  },
  {
   "cell_type": "code",
   "execution_count": null,
   "metadata": {},
   "outputs": [],
   "source": [
    "for coin in variation.keys():\n",
    "    plt.hist(variation[coin], 100, normed=1)\n",
    "    plt.xlabel('% Change')\n",
    "    plt.ylabel('% Probability')\n",
    "    plt.title(r'$\\mathrm{Histogram\\ of\\ %s}$' % coin)\n",
    "    plt.grid(True)\n",
    "    plt.show()"
   ]
  },
  {
   "cell_type": "markdown",
   "metadata": {},
   "source": [
    "### Média, Variância e Desvio Padrão Amostral\n",
    "Com base no que foi descoberto, tentamos obter os parâmetros para análise e posteriormente plotagem da distribuição normal."
   ]
  },
  {
   "cell_type": "code",
   "execution_count": null,
   "metadata": {},
   "outputs": [],
   "source": [
    "totalVariation  = {}\n",
    "mean            = {}\n",
    "variance        = {}\n",
    "std             = {}\n",
    "for coin in variation.keys():\n",
    "    print(coin)\n",
    "    totalVariation[coin] = variation[coin].sum()\n",
    "    mean[coin] = totalVariation[coin]/len(variation[coin])\n",
    "    print(\"{0:15} {1}\".format('Média', mean[coin]))\n",
    "\n",
    "    # unbiased variance\n",
    "    variance[coin] = variation[coin].var()\n",
    "    print(\"{0:15} {1}\".format('Variância', variance[coin]))\n",
    "\n",
    "    std[coin] = (variance[coin])**(1/2)\n",
    "    print(\"{0:15} {1}\".format('Desvio Padrão', std[coin]))"
   ]
  },
  {
   "cell_type": "markdown",
   "metadata": {},
   "source": [
    "Podemos observar, entretanto, que estes resultados não são significativos. Para o Bitcoin, por exemplo, o desvio padrão é 13x o valor da média."
   ]
  },
  {
   "cell_type": "markdown",
   "metadata": {},
   "source": [
    "### Distribuição Normal\n",
    "Traçamos então o gráfico para as PDFs de cada moeda."
   ]
  },
  {
   "cell_type": "code",
   "execution_count": null,
   "metadata": {},
   "outputs": [],
   "source": [
    "for coin in variation.keys():\n",
    "    # plots histogram\n",
    "    plt.hist(variation[coin], 100, normed=1)\n",
    "    plt.xlabel('% Change')\n",
    "    plt.ylabel('% Probability')\n",
    "    plt.title(r'$\\mathrm{Normal\\ Distribution\\ of\\ %s}$' % coin)\n",
    "    \n",
    "    # makes distribution\n",
    "    rv = stats.norm(mean[coin], std[coin])\n",
    "    \n",
    "    # plots r.v.\n",
    "    x = np.linspace(min(variation[coin]), max(variation[coin])) \n",
    "    plt.plot(x, rv.pdf(x), lw=2)\n",
    "    plt.show()"
   ]
  },
  {
   "cell_type": "markdown",
   "metadata": {},
   "source": [
    "Observamos visualmente que a Normal não aproxima bem o gráfico, que possui um pico mais acentuado em torno da média. Para verificar esta \n",
    "\n",
    "### Goodness of Fit - KS TTeste\n",
    "Para avalior se os dados podem ser aproximados pelas distribuições, usamos o teste Goodness of Fit Kolmogorov-Smirnov para variáveis contínuas, e buscamos um erro $ \\alpha $ de 5%."
   ]
  },
  {
   "cell_type": "code",
   "execution_count": null,
   "metadata": {},
   "outputs": [],
   "source": [
    "for coin in variation.keys():\n",
    "    print('Coin %s' % coin)\n",
    "    \n",
    "    # statistic for alpha = 5%\n",
    "    n = len(variation[coin])\n",
    "    print('Statistic should be %f' % (1.35810/math.sqrt(n)))\n",
    "    \n",
    "    print(stats.kstest(variation[coin], 'norm', [mean[coin], std[coin]]))\n",
    "    print('\\n')"
   ]
  },
  {
   "cell_type": "markdown",
   "metadata": {},
   "source": [
    "Como podemos observar, a estatística do teste com significância de 5% de  rejeitou as distribuições normais para todas as moedas. Necessitamos, portanto, de outra distribuição que melhor explique os dados.\n",
    "\n",
    "### Distribuição T-Student\n",
    "Com base na referência 1, que já estudou as variações das moedas em períodos anteriores, escolhemos a distribuição T-Student, por ter maior grau de liberdade e conseguir aproximar melhor o evento estudado, com uma cauda mais pesada."
   ]
  },
  {
   "cell_type": "code",
   "execution_count": null,
   "metadata": {},
   "outputs": [],
   "source": [
    "t_rv = {}\n",
    "for coin in variation.keys():\n",
    "    # plots histogram\n",
    "    plt.hist(variation[coin], 100, normed=1)\n",
    "    plt.xlabel('% Change')\n",
    "    plt.ylabel('% Probability')\n",
    "    plt.title(r'$\\mathrm{Normal\\ Distribution\\ of\\ %s}$' % coin)\n",
    "    \n",
    "    # estimates parameters with MLE\n",
    "    df, location, scale = stats.t.fit(variation[coin])\n",
    "    t_rv[coin] = stats.t(df, location, scale)\n",
    "    \n",
    "    # plots r.v.\n",
    "    x = np.linspace(min(variation[coin]), max(variation[coin])) \n",
    "    plt.plot(x, t_rv[coin].pdf(x), lw=2)\n",
    "    plt.show()"
   ]
  },
  {
   "cell_type": "markdown",
   "metadata": {},
   "source": [
    "### Goodness of Fit - KS TTeste\n",
    "Para avalior se os dados podem ser aproximados pelas distribuições, usamos o teste Goodness of Fit Kolmogorov-Smirnov para variáveis contínuas, e buscamos um erro $ \\alpha $ de 5%."
   ]
  },
  {
   "cell_type": "code",
   "execution_count": null,
   "metadata": {},
   "outputs": [],
   "source": [
    "for coin in variation.keys():\n",
    "    print('Coin %s' % coin)\n",
    "    \n",
    "    # statistic for alpha = 5%\n",
    "    n = len(variation[coin])\n",
    "    print('Statistic should be %f' % (1.35810/math.sqrt(n)))\n",
    "    \n",
    "    print(stats.kstest(variation[coin], t_rv[coin].cdf))\n",
    "    print('\\n')"
   ]
  },
  {
   "cell_type": "markdown",
   "metadata": {},
   "source": [
    "Como podemos observar, as seguintes moedas foram aceitas como distribuidas por T Student:\n",
    "* DSH\n",
    "* LTC\n",
    "* XMR\n",
    "* NEM\n",
    "* NEO\n",
    "* OMG\n",
    "* XRP\n",
    "* STRAT\n",
    "* WAVES\n",
    "\n",
    "Com destaque para OMG e Waves, que tiveram os melhores resultados\n",
    "\n",
    "### Q-Q Plot\n",
    "Traçamos finalmente o gráfico Quantile Quantile Plot, para analisar visualmente a aproximação dos dados pela função de distribuição T-Student."
   ]
  },
  {
   "cell_type": "code",
   "execution_count": null,
   "metadata": {},
   "outputs": [],
   "source": [
    "for coin in variation.keys():\n",
    "    stats.probplot(variation[coin], dist=t_rv[coin], plot=plt)\n",
    "    plt.title(\"T Student Q-Q plot %s \" % coin)\n",
    "    plt.show()"
   ]
  },
  {
   "cell_type": "markdown",
   "metadata": {},
   "source": [
    "### Referências\n",
    "1 Jörg Osterrieder. The Statistics of Bitcoin and Cryptocurrencies. Novembro, 2017.  \n",
    "  \n",
    "2 Stephen Chan, Jeffrey Chu, Saralees Nadarajah, Joerg Osterrieder. A Statistical Analysis of Cryptocurrencies. Maio 2017.\n",
    "### Anexos\n",
    "O código deste trabalho está disponível em https://github.com/lucasvg/crypoCurrencies-estModProb-COE241-UFRJ"
   ]
  }
 ],
 "metadata": {
  "kernelspec": {
   "display_name": "Python 3",
   "language": "python",
   "name": "python3"
  },
  "language_info": {
   "codemirror_mode": {
    "name": "ipython",
    "version": 3
   },
   "file_extension": ".py",
   "mimetype": "text/x-python",
   "name": "python",
   "nbconvert_exporter": "python",
   "pygments_lexer": "ipython3",
   "version": "3.6.3"
  }
 },
 "nbformat": 4,
 "nbformat_minor": 2
}
