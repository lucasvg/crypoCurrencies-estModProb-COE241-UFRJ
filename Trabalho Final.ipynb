{
 "cells": [
  {
   "cell_type": "code",
   "execution_count": null,
   "metadata": {
    "collapsed": true
   },
   "outputs": [],
   "source": [
    "import numpy as np # manipulação de matrizes\n",
    "import pandas as pd # Manipulação de data/sets\n",
    "import matplotlib.pyplot as plt # Para plotagem\n",
    "import scipy.stats as stats # Normalizações, cálculos de densidade de probabilidade, etc"
   ]
  },
  {
   "cell_type": "code",
   "execution_count": null,
   "metadata": {},
   "outputs": [],
   "source": [
    "## Lendo o dataset e processando os dados\n",
    "data = {}\n",
    "data['BTC'] = pd.read_csv(\"data/bitcoin_price.csv\")\n",
    "data['ETH'] = pd.read_csv(\"data/ethereum_price.csv\")\n",
    "data['DSH'] = pd.read_csv(\"data/dash_price.csv\")\n",
    "\n",
    "def getRelativeChange(ticker):\n",
    "    return (ticker['Close'] - ticker['Open']) / ticker['Open']\n",
    "\n",
    "variation = {}\n",
    "for coin in data.keys():\n",
    "    variation[coin] = data[coin].apply(getRelativeChange, axis=1)"
   ]
  },
  {
   "cell_type": "markdown",
   "metadata": {},
   "source": [
    "### Histograma"
   ]
  },
  {
   "cell_type": "code",
   "execution_count": null,
   "metadata": {},
   "outputs": [],
   "source": [
    "for coin in variation.keys():\n",
    "    plt.hist(variation[coin], 100, normed=1)\n",
    "    plt.xlabel('% Change')\n",
    "    plt.ylabel('% Probability')\n",
    "    plt.title(r'$\\mathrm{Histogram\\ of\\ %s}$' % coin)\n",
    "    plt.grid(True)\n",
    "    plt.show()"
   ]
  },
  {
   "cell_type": "markdown",
   "metadata": {},
   "source": [
    "### Média, Variância e Desvio Padrão Amostral"
   ]
  },
  {
   "cell_type": "code",
   "execution_count": null,
   "metadata": {},
   "outputs": [],
   "source": [
    "totalVariation  = {}\n",
    "mean            = {}\n",
    "variance        = {}\n",
    "std             = {}\n",
    "for coin in variation.keys():\n",
    "    print(coin)\n",
    "    totalVariation[coin] = variation[coin].sum()\n",
    "    mean[coin] = totalVariation[coin]/len(variation[coin])\n",
    "    print(\"{0:15} {1}\".format('Média', mean[coin]))\n",
    "\n",
    "    # unbiased variance\n",
    "    variance[coin] = variation[coin].var()\n",
    "    print(\"{0:15} {1}\".format('Variância', variance[coin]))\n",
    "\n",
    "    std[coin] = (variance[coin])**(1/2)\n",
    "    print(\"{0:15} {1}\".format('Desvio Padrão', std[coin]))"
   ]
  },
  {
   "cell_type": "markdown",
   "metadata": {},
   "source": [
    "### Distribuição Normal"
   ]
  },
  {
   "cell_type": "code",
   "execution_count": null,
   "metadata": {},
   "outputs": [],
   "source": [
    "for coin in variation.keys():\n",
    "    # plots histogram\n",
    "    plt.hist(variation[coin], 100, normed=1)\n",
    "    plt.xlabel('% Change')\n",
    "    plt.ylabel('% Probability')\n",
    "    plt.title(r'$\\mathrm{Normal\\ Distribution\\ of\\ %s}$' % coin)\n",
    "    \n",
    "    # estimates parameters with MLE\n",
    "    location, scale = stats.norm.fit(variation[coin])\n",
    "    rv = stats.norm(location, scale)\n",
    "    \n",
    "    # plots r.v.\n",
    "    x = np.linspace(min(variation[coin]), max(variation[coin])) \n",
    "    plt.plot(x, rv.pdf(x), lw=2)\n",
    "    plt.show()"
   ]
  }
 ],
 "metadata": {
  "kernelspec": {
   "display_name": "Python 3",
   "language": "python",
   "name": "python3"
  },
  "language_info": {
   "codemirror_mode": {
    "name": "ipython",
    "version": 3
   },
   "file_extension": ".py",
   "mimetype": "text/x-python",
   "name": "python",
   "nbconvert_exporter": "python",
   "pygments_lexer": "ipython3",
   "version": "3.6.3"
  }
 },
 "nbformat": 4,
 "nbformat_minor": 2
}
