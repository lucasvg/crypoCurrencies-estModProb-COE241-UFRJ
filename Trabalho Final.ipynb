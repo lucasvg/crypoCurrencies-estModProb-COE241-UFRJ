{
 "cells": [
  {
   "cell_type": "code",
   "execution_count": null,
   "metadata": {
    "collapsed": true
   },
   "outputs": [],
   "source": [
    "import numpy as np # manipulação de matrizes\n",
    "import pandas as pd # Manipulação de data/sets\n",
    "import matplotlib.pyplot as plt # Para plotagem\n",
    "import scipy.stats as stats # Normalizações, cálculos de densidade de probabilidade, etc"
   ]
  },
  {
   "cell_type": "code",
   "execution_count": null,
   "metadata": {
    "collapsed": true
   },
   "outputs": [],
   "source": [
    "## Lendo o dataset e processando os dados\n",
    "dataBTC = pd.read_csv(\"data/bitcoin_price.csv\")\n",
    "\n",
    "def getRelativeChange(ticker):\n",
    "    return (ticker['Close'] - ticker['Open']) / ticker['Open']\n",
    "\n",
    "variationBTC = dataBTC.apply(getRelativeChange, axis=1)"
   ]
  },
  {
   "cell_type": "markdown",
   "metadata": {},
   "source": [
    "### Histograma"
   ]
  },
  {
   "cell_type": "code",
   "execution_count": null,
   "metadata": {},
   "outputs": [],
   "source": [
    "plt.hist(variationBTC, 100, normed=1)\n",
    "\n",
    "plt.xlabel('% Change')\n",
    "plt.ylabel('% Probability')\n",
    "plt.title(r'$\\mathrm{Histogram\\ of\\ BTC}$')\n",
    "plt.grid(True)\n",
    "plt.show()"
   ]
  },
  {
   "cell_type": "markdown",
   "metadata": {},
   "source": [
    "### Média, Variância e Desvio Padrão Amostral"
   ]
  },
  {
   "cell_type": "code",
   "execution_count": null,
   "metadata": {},
   "outputs": [],
   "source": [
    "totalVariation = variationBTC.sum()\n",
    "mean = totalVariation/len(variationBTC)\n",
    "print(\"{0:15} {1}\".format('Média', mean))\n",
    "\n",
    "# unbiased variance\n",
    "variance = variationBTC.var()\n",
    "print(\"{0:15} {1}\".format('Variância', variance))\n",
    "\n",
    "std = (variance)**(1/2)\n",
    "print(\"{0:15} {1}\".format('Desvio Padrão', std))"
   ]
  }
 ],
 "metadata": {
  "kernelspec": {
   "display_name": "Python 3",
   "language": "python",
   "name": "python3"
  },
  "language_info": {
   "codemirror_mode": {
    "name": "ipython",
    "version": 3
   },
   "file_extension": ".py",
   "mimetype": "text/x-python",
   "name": "python",
   "nbconvert_exporter": "python",
   "pygments_lexer": "ipython3",
   "version": "3.6.3"
  }
 },
 "nbformat": 4,
 "nbformat_minor": 2
}
